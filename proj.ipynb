{
 "cells": [
  {
   "cell_type": "code",
   "execution_count": 2,
   "metadata": {},
   "outputs": [],
   "source": [
    "import pandas as pd\n",
    "import numpy as np\n",
    "import os\n",
    "import tensorflow as tf\n",
    "import cv2\n",
    "from tensorflow import keras\n",
    "from tensorflow.keras.layers import Dense, Input, InputLayer, Flatten\n",
    "from tensorflow.keras.models import Sequential, Model\n",
    "from  matplotlib import pyplot as plt\n",
    "import matplotlib.image as mpimg\n",
    "%matplotlib inline\n",
    "import random"
   ]
  },
  {
   "cell_type": "code",
   "execution_count": 3,
   "metadata": {},
   "outputs": [],
   "source": [
    "IMG_HEIGHT = 150\n",
    "IMG_WIDTH  = 150\n",
    "img_folder=r'Project_Dataset\\classes'"
   ]
  },
  {
   "cell_type": "code",
   "execution_count": 5,
   "metadata": {},
   "outputs": [],
   "source": [
    "def create_dataset(img_folder):\n",
    "   \n",
    "    img_data_array=[]\n",
    "    class_name=[]\n",
    "   \n",
    "    for dir1 in os.listdir(img_folder):\n",
    "        for file in os.listdir(os.path.join(img_folder, dir1)):\n",
    "       \n",
    "            image_path= os.path.join(img_folder, dir1, file)\n",
    "            image= cv2.imread(image_path)\n",
    "            image=np.array(image)\n",
    "            image = image.astype('float32')\n",
    "            image /= 255 \n",
    "            img_data_array.append(image)\n",
    "            class_name.append(dir1)\n",
    "    return img_data_array, class_name\n",
    "\n",
    "img_data, class_name =create_dataset(r'Project_Dataset\\classes')"
   ]
  },
  {
   "cell_type": "code",
   "execution_count": 6,
   "metadata": {},
   "outputs": [
    {
     "data": {
      "text/plain": [
       "{'ਅ': 0,\n",
       " 'ਕ': 1,\n",
       " 'ਖ': 2,\n",
       " 'ਖ਼': 3,\n",
       " 'ਗ': 4,\n",
       " 'ਗ਼': 5,\n",
       " 'ਘ': 6,\n",
       " 'ਙ': 7,\n",
       " 'ਚ': 8,\n",
       " 'ਛ': 9,\n",
       " 'ਜ': 10,\n",
       " 'ਜ਼': 11,\n",
       " 'ਝ': 12,\n",
       " 'ਞ': 13,\n",
       " 'ਟ': 14,\n",
       " 'ਠ': 15,\n",
       " 'ਡ': 16,\n",
       " 'ਢ': 17,\n",
       " 'ਣ': 18,\n",
       " 'ਤ': 19,\n",
       " 'ਥ': 20,\n",
       " 'ਦ': 21,\n",
       " 'ਧ': 22,\n",
       " 'ਨ': 23,\n",
       " 'ਪ': 24,\n",
       " 'ਫ': 25,\n",
       " 'ਫ਼': 26,\n",
       " 'ਬ': 27,\n",
       " 'ਭ': 28,\n",
       " 'ਮ': 29,\n",
       " 'ਯ': 30,\n",
       " 'ਰ': 31,\n",
       " 'ਲ': 32,\n",
       " 'ਲ਼': 33,\n",
       " 'ਵ': 34,\n",
       " 'ਸ': 35,\n",
       " 'ਸ਼': 36,\n",
       " 'ਹ': 37,\n",
       " 'ੜ': 38,\n",
       " 'ੲ': 39,\n",
       " 'ੳ': 40}"
      ]
     },
     "execution_count": 6,
     "metadata": {},
     "output_type": "execute_result"
    }
   ],
   "source": [
    "target_dict={k: v for v, k in enumerate(np.unique(class_name))}\n",
    "target_dict"
   ]
  },
  {
   "cell_type": "code",
   "execution_count": 7,
   "metadata": {},
   "outputs": [],
   "source": [
    "target_val = [target_dict[class_name[i]] for i in range(len(class_name))]"
   ]
  },
  {
   "cell_type": "code",
   "execution_count": 10,
   "metadata": {},
   "outputs": [],
   "source": [
    "model=tf.keras.Sequential(\n",
    "        [\n",
    "            tf.keras.layers.InputLayer(input_shape=(IMG_HEIGHT,IMG_WIDTH, 3)),\n",
    "            tf.keras.layers.Conv2D(filters=32, kernel_size=3, strides=(2, 2), activation='relu'),\n",
    "            tf.keras.layers.Conv2D(filters=64, kernel_size=3, strides=(2, 2), activation='relu'),\n",
    "            tf.keras.layers.Flatten(),\n",
    "            tf.keras.layers.Dense(6)\n",
    "        ])\n",
    "model.compile(optimizer='rmsprop', loss='sparse_categorical_crossentropy', metrics=['accuracy'])\n"
   ]
  }
 ],
 "metadata": {
  "kernelspec": {
   "display_name": "venv",
   "language": "python",
   "name": "python3"
  },
  "language_info": {
   "codemirror_mode": {
    "name": "ipython",
    "version": 3
   },
   "file_extension": ".py",
   "mimetype": "text/x-python",
   "name": "python",
   "nbconvert_exporter": "python",
   "pygments_lexer": "ipython3",
   "version": "3.11.0"
  },
  "orig_nbformat": 4
 },
 "nbformat": 4,
 "nbformat_minor": 2
}
